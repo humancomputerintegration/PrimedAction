{
 "cells": [
  {
   "cell_type": "code",
   "execution_count": null,
   "id": "b6c12b94-6f08-4408-be94-01fc372e5a1f",
   "metadata": {},
   "outputs": [
    {
     "name": "stdout",
     "output_type": "stream",
     "text": [
      "Friedman Test Statistic: 4.666666666666657\n",
      "P-value: 0.09697196786440551\n"
     ]
    }
   ],
   "source": [
    "import pandas as pd\n",
    "import numpy as np\n",
    "from scipy.stats import friedmanchisquare, wilcoxon\n",
    "from statsmodels.stats.multitest import multipletests\n",
    "\n",
    "data = pd.read_csv('rt-averaged.csv')\n",
    "\n",
    "data['Trial'] = data.groupby(['Subject', 'Condition']).cumcount() + 1\n",
    "data_pivot = data.pivot(index=['Subject', 'Trial'], columns='Condition', values='RT')\n",
    "\n",
    "sham = data_pivot['sham'].values\n",
    "tms = data_pivot['tms'].values\n",
    "ems = data_pivot['ems'].values\n",
    "\n",
    "# Perform the Friedman test\n",
    "statistic, p_value = friedmanchisquare(sham, tms, ems)\n",
    "print(f\"Friedman Test Statistic: {statistic}\")\n",
    "print(f\"P-value: {p_value}\")"
   ]
  },
  {
   "cell_type": "code",
   "execution_count": null,
   "id": "a1120e3b-f87f-4c86-b8cf-ed0da63136ff",
   "metadata": {},
   "outputs": [
    {
     "name": "stdout",
     "output_type": "stream",
     "text": [
      "Friedman Test Statistic: 18.666666666666657\n",
      "P-value: 8.842698865988345e-05\n",
      "Adjusted P-values: [0.19189453 0.00146484 0.00146484]\n",
      "statistics: [-1.92193812 -3.05941171 -3.05941171]\n"
     ]
    }
   ],
   "source": [
    "data = pd.read_csv('agency-averaged.csv')\n",
    "\n",
    "data['Trial'] = data.groupby(['Subject', 'Condition']).cumcount() + 1\n",
    "data_pivot = data.pivot(index=['Subject', 'Trial'], columns='Condition', values='Agency')\n",
    "\n",
    "sham = data_pivot['sham'].values\n",
    "tms = data_pivot['tms'].values\n",
    "ems = data_pivot['ems'].values\n",
    "\n",
    "# Perform the Friedman test\n",
    "statistic, p_value = friedmanchisquare(sham, tms, ems)\n",
    "print(f\"Friedman Test Statistic: {statistic}\")\n",
    "print(f\"P-value: {p_value}\")\n",
    "\n",
    "# Post hoc pairwise comparisons given the main effect (Wilcoxon signed-rank test) \n",
    "sham_vs_tms = wilcoxon(sham, tms)\n",
    "sham_vs_ems = wilcoxon(sham, ems)\n",
    "tms_vs_ems = wilcoxon(tms, ems)\n",
    "\n",
    "p_values = [sham_vs_tms.pvalue, sham_vs_ems.pvalue, tms_vs_ems.pvalue]\n",
    "statistics = [sham_vs_tms.statistic, sham_vs_ems.statistic, tms_vs_ems.statistic]\n",
    "n = 12\n",
    "statistics = np.array(statistics)\n",
    "z = statistics - n*(n+1)/4\n",
    "z /= np.sqrt(n*(n+1)*(2*n+1)/24)\n",
    "\n",
    "# Apply Bonferroni correction\n",
    "reject, p_adjusted, _, _ = multipletests(p_values, method='bonferroni')\n",
    "\n",
    "print(f\"Adjusted P-values: {p_adjusted}\")\n",
    "print(f\"statistics: {z}\")"
   ]
  }
 ],
 "metadata": {
  "kernelspec": {
   "display_name": "Python 3 (ipykernel)",
   "language": "python",
   "name": "python3"
  },
  "language_info": {
   "codemirror_mode": {
    "name": "ipython",
    "version": 3
   },
   "file_extension": ".py",
   "mimetype": "text/x-python",
   "name": "python",
   "nbconvert_exporter": "python",
   "pygments_lexer": "ipython3",
   "version": "3.10.12"
  }
 },
 "nbformat": 4,
 "nbformat_minor": 5
}
