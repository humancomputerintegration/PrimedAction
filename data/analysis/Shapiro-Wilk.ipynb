{
 "cells": [
  {
   "cell_type": "code",
   "execution_count": null,
   "id": "26939393-1e16-49c0-a31d-e70e5c8f8302",
   "metadata": {},
   "outputs": [
    {
     "name": "stdout",
     "output_type": "stream",
     "text": [
      "Shapiro-Wilk Normality Test Results:\n",
      "ems: W=0.5986, p-value=0.0000\n",
      "sham: W=0.6390, p-value=0.0000\n",
      "tms: W=0.6342, p-value=0.0000\n"
     ]
    }
   ],
   "source": [
    "import pandas as pd\n",
    "import numpy as np\n",
    "from scipy.stats import shapiro\n",
    "\n",
    "data = pd.read_csv('rt-raw.csv')\n",
    "\n",
    "data['Trial'] = data.groupby(['Subject', 'Condition']).cumcount() + 1\n",
    "data_pivot = data.pivot(index=['Subject', 'Trial'], columns='Condition', values='RT')\n",
    "\n",
    "sham = data_pivot['sham'].values\n",
    "tms = data_pivot['tms'].values\n",
    "ems = data_pivot['ems'].values\n",
    "\n",
    "print(\"Shapiro-Wilk Normality Test Results:\")\n",
    "shapiro_results = {}\n",
    "for condition in data_pivot.columns:\n",
    "    stat, p_value = shapiro(data_pivot[condition])\n",
    "    shapiro_results[condition] = p_value\n",
    "    print(f\"{condition}: W={stat:.4f}, p-value={p_value:.4f}\")"
   ]
  },
  {
   "cell_type": "code",
   "execution_count": null,
   "id": "91d64479-778f-47cb-9441-5e2a1cf29a97",
   "metadata": {},
   "outputs": [
    {
     "name": "stdout",
     "output_type": "stream",
     "text": [
      "Shapiro-Wilk Normality Test Results:\n",
      "ems: W=0.9005, p-value=0.0000\n",
      "sham: W=0.7600, p-value=0.0000\n",
      "tms: W=0.8033, p-value=0.0000\n"
     ]
    }
   ],
   "source": [
    "data = pd.read_csv('agency-raw.csv')\n",
    "\n",
    "data['Trial'] = data.groupby(['Subject', 'Condition']).cumcount() + 1\n",
    "data_pivot = data.pivot(index=['Subject', 'Trial'], columns='Condition', values='Agency')\n",
    "\n",
    "sham = data_pivot['sham'].values\n",
    "tms = data_pivot['tms'].values\n",
    "ems = data_pivot['ems'].values\n",
    "\n",
    "print(\"Shapiro-Wilk Normality Test Results:\")\n",
    "shapiro_results = {}\n",
    "for condition in data_pivot.columns:\n",
    "    stat, p_value = shapiro(data_pivot[condition])\n",
    "    shapiro_results[condition] = p_value\n",
    "    print(f\"{condition}: W={stat:.4f}, p-value={p_value:.4f}\")"
   ]
  }
 ],
 "metadata": {
  "kernelspec": {
   "display_name": "Python 3 (ipykernel)",
   "language": "python",
   "name": "python3"
  },
  "language_info": {
   "codemirror_mode": {
    "name": "ipython",
    "version": 3
   },
   "file_extension": ".py",
   "mimetype": "text/x-python",
   "name": "python",
   "nbconvert_exporter": "python",
   "pygments_lexer": "ipython3",
   "version": "3.10.12"
  }
 },
 "nbformat": 4,
 "nbformat_minor": 5
}
